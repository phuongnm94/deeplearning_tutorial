{
 "cells": [
  {
   "attachments": {},
   "cell_type": "markdown",
   "metadata": {},
   "source": [
    "#### Check these tutorial about Python Class and Scope\n",
    "- https://www.w3schools.com/python/python_classes.asp\n",
    "- https://www.w3schools.com/python/python_scope.asp"
   ]
  },
  {
   "attachments": {},
   "cell_type": "markdown",
   "metadata": {},
   "source": [
    "#### Escesices \n",
    "\n",
    "Fix the error in this program "
   ]
  },
  {
   "cell_type": "code",
   "execution_count": 9,
   "metadata": {},
   "outputs": [],
   "source": [
    "class Arm: \n",
    "    def __init__(self, *finger) -> None:\n",
    "        self.fingers = list(finger)\n",
    "    def __str__(self) -> str:\n",
    "        return (f\"arm - {self.fingers}\")\n",
    "class Leg(Arm):  \n",
    "    pass\n",
    "\n",
    "class Person: \n",
    "    def __init__(self, num_arm, num_leg) -> None:\n",
    "        pass\n",
    "        my_arms = []\n",
    "        my_legs = []\n",
    "        for i in range(num_arm):\n",
    "            my_arms.append(Arm(1,2,3,4))\n",
    "        self.my_arms = my_arms\n",
    "        for i in range(num_leg):\n",
    "            my_legs.append(Leg(1,2,3,4))\n",
    "\n",
    "    def __str__(self) -> str:\n",
    "        return (f\"person arms => {[str(a) for a in self.my_arms]}\") + \\\n",
    "                (f\"\\nperson legs => {[str(a) for a in self.my_arms]}\")\n"
   ]
  },
  {
   "cell_type": "code",
   "execution_count": 4,
   "metadata": {},
   "outputs": [
    {
     "name": "stdout",
     "output_type": "stream",
     "text": [
      "person arms => ['arm - [1, 2, 3, 4]', 'arm - [1, 2, 3, 4]']\n",
      "person legs => ['arm - [1, 2, 3, 4]', 'arm - [1, 2, 3, 4]']\n",
      "[<__main__.Arm object at 0x7fbf88609e80>, <__main__.Arm object at 0x7fbf883b0f10>]\n"
     ]
    },
    {
     "ename": "AttributeError",
     "evalue": "'Person' object has no attribute 'my_legs'",
     "output_type": "error",
     "traceback": [
      "\u001b[0;31m---------------------------------------------------------------------------\u001b[0m",
      "\u001b[0;31mAttributeError\u001b[0m                            Traceback (most recent call last)",
      "\u001b[1;32m/home/phuongnm/deeplearning_tutorial/src/python_obj/ex1.python_objective_test.ipynb Cell 4\u001b[0m in \u001b[0;36m<cell line: 4>\u001b[0;34m()\u001b[0m\n\u001b[1;32m      <a href='vscode-notebook-cell://ssh-remote%2Bspcc-a100g02/home/phuongnm/deeplearning_tutorial/src/python_obj/ex1.python_objective_test.ipynb#W3sdnNjb2RlLXJlbW90ZQ%3D%3D?line=1'>2</a>\u001b[0m \u001b[39mprint\u001b[39m(x)\n\u001b[1;32m      <a href='vscode-notebook-cell://ssh-remote%2Bspcc-a100g02/home/phuongnm/deeplearning_tutorial/src/python_obj/ex1.python_objective_test.ipynb#W3sdnNjb2RlLXJlbW90ZQ%3D%3D?line=2'>3</a>\u001b[0m \u001b[39mprint\u001b[39m(x\u001b[39m.\u001b[39mmy_arms)\n\u001b[0;32m----> <a href='vscode-notebook-cell://ssh-remote%2Bspcc-a100g02/home/phuongnm/deeplearning_tutorial/src/python_obj/ex1.python_objective_test.ipynb#W3sdnNjb2RlLXJlbW90ZQ%3D%3D?line=3'>4</a>\u001b[0m \u001b[39mprint\u001b[39m(x\u001b[39m.\u001b[39;49mmy_legs) \n",
      "\u001b[0;31mAttributeError\u001b[0m: 'Person' object has no attribute 'my_legs'"
     ]
    }
   ],
   "source": [
    "\n",
    "x = Person(num_arm=2, num_leg=2)\n",
    "print(x)\n",
    "print(x.my_arms)\n",
    "print(x.my_legs) "
   ]
  },
  {
   "cell_type": "code",
   "execution_count": 11,
   "metadata": {},
   "outputs": [
    {
     "name": "stdout",
     "output_type": "stream",
     "text": [
      "Correct ouput\n",
      "person arms => ['arm - [1, 2, 3, 4]', 'arm - [1, 2, 3, 4]']\n",
      "person legs => ['leg - [1, 2, 3, 4]', 'leg - [1, 2, 3, 4]']\n",
      "[<__main__.Arm object at 0x7fbf885ca280>, <__main__.Arm object at 0x7fbf884d7c70>]\n",
      "[<__main__.Leg object at 0x7fbf884d7bb0>, <__main__.Leg object at 0x7fbf884d7be0>]\n"
     ]
    }
   ],
   "source": [
    "print(\"Correct ouput\")\n",
    "print(x)\n",
    "print(x.my_arms)\n",
    "print(x.my_legs) "
   ]
  },
  {
   "cell_type": "code",
   "execution_count": null,
   "metadata": {},
   "outputs": [],
   "source": []
  },
  {
   "cell_type": "code",
   "execution_count": null,
   "metadata": {},
   "outputs": [],
   "source": []
  }
 ],
 "metadata": {
  "kernelspec": {
   "display_name": "Python 3",
   "language": "python",
   "name": "python3"
  },
  "language_info": {
   "codemirror_mode": {
    "name": "ipython",
    "version": 3
   },
   "file_extension": ".py",
   "mimetype": "text/x-python",
   "name": "python",
   "nbconvert_exporter": "python",
   "pygments_lexer": "ipython3",
   "version": "3.8.16"
  },
  "orig_nbformat": 4,
  "vscode": {
   "interpreter": {
    "hash": "d3602b4515afb2d87a870b61c65d7b658117eca8f37f64d20593019ba04f7019"
   }
  }
 },
 "nbformat": 4,
 "nbformat_minor": 2
}
