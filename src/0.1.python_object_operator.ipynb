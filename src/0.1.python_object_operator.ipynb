{
 "cells": [
  {
   "cell_type": "markdown",
   "metadata": {},
   "source": [
    "## Operator Overloading in Python\n",
    "\n",
    "Take a look in [this document](https://www.geeksforgeeks.org/operator-overloading-in-python/).\n",
    "To sum up, this mechanism enable for the flexible (simple in coding) of python language. \n",
    "\n",
    "Please check the following examples to know exactly how the override operators work:\n"
   ]
  },
  {
   "cell_type": "code",
   "execution_count": 31,
   "metadata": {},
   "outputs": [],
   "source": [
    "class A:\n",
    "    # A is the class \n",
    "    def __init__(self, data):\n",
    "        print(\"process __init__ function\")\n",
    "        self.data = data\n",
    " \n",
    "    def __add__(self, o):\n",
    "        print(\"process __add__ function\")\n",
    "        result = []\n",
    "        for e in self.data:\n",
    "            result.append(e)\n",
    "        for e in o.data:\n",
    "            result.append(e)\n",
    "        return result\n",
    "\n",
    "    def __getitem__(self, index):\n",
    "        print(\"process __getitem__ function, given index = {}\".format(index))\n",
    "        return self.data[index]\n",
    "\n",
    "    def __call__(self):\n",
    "        print(\"process __call__ function\")\n",
    "        print('usually implement the function `forward()` in here, such as:  Mymodel().forward() == Mymodel()()')\n",
    "        return self.data\n"
   ]
  },
  {
   "cell_type": "code",
   "execution_count": 32,
   "metadata": {},
   "outputs": [
    {
     "name": "stdout",
     "output_type": "stream",
     "text": [
      "process __init__ function\n",
      "process __init__ function\n"
     ]
    }
   ],
   "source": [
    "# Init object which is instance of class A\n",
    "ob1 = A([1,2,3])\n",
    "ob2 = A(['a', 'b'])"
   ]
  },
  {
   "cell_type": "code",
   "execution_count": 33,
   "metadata": {},
   "outputs": [
    {
     "name": "stdout",
     "output_type": "stream",
     "text": [
      "process __add__ function\n",
      "[1, 2, 3, 'a', 'b']\n"
     ]
    }
   ],
   "source": [
    "print(ob1 + ob2)"
   ]
  },
  {
   "cell_type": "code",
   "execution_count": 34,
   "metadata": {},
   "outputs": [
    {
     "name": "stdout",
     "output_type": "stream",
     "text": [
      "process __call__ function\n",
      "usually implement the function `forward()` in here, such as:  Mymodel().forward() == Mymodel()()\n",
      "[1, 2, 3]\n"
     ]
    }
   ],
   "source": [
    "print( ob1() )"
   ]
  },
  {
   "cell_type": "code",
   "execution_count": 36,
   "metadata": {},
   "outputs": [
    {
     "name": "stdout",
     "output_type": "stream",
     "text": [
      "process __getitem__ function, given index = 2\n",
      "3\n"
     ]
    }
   ],
   "source": [
    "print( ob1[2] )"
   ]
  },
  {
   "cell_type": "markdown",
   "metadata": {},
   "source": [
    "## Practice with the Vocab object \n",
    "\n",
    "Take a look on the bellow code (usually used in the ML project)"
   ]
  },
  {
   "cell_type": "code",
   "execution_count": 45,
   "metadata": {},
   "outputs": [],
   "source": [
    "from torchtext.vocab import vocab\n",
    "from collections import Counter, OrderedDict\n",
    "\n",
    "# build vocab - using vocab object of torchtext \n",
    "all_words = ['this', 'is', 'a', 'test', 'vocab', 'test', 'test', 'vocab']\n",
    "counter = Counter(all_words)"
   ]
  },
  {
   "cell_type": "code",
   "execution_count": 46,
   "metadata": {},
   "outputs": [
    {
     "name": "stdout",
     "output_type": "stream",
     "text": [
      "The Counter object overrided the __getitem__ operator\n",
      "Counter({'test': 3, 'vocab': 2, 'this': 1, 'is': 1, 'a': 1})\n",
      "3\n",
      "2\n"
     ]
    }
   ],
   "source": [
    "print(\"The Counter object overrided the __getitem__ operator\")\n",
    "print(counter)\n",
    "print(counter['test'])\n",
    "print(counter['vocab'])\n"
   ]
  },
  {
   "cell_type": "code",
   "execution_count": 51,
   "metadata": {},
   "outputs": [
    {
     "data": {
      "text/plain": [
       "[('test', 3), ('vocab', 2), ('this', 1), ('is', 1), ('a', 1)]"
      ]
     },
     "execution_count": 51,
     "metadata": {},
     "output_type": "execute_result"
    }
   ],
   "source": [
    "################################\n",
    "# NOTE \n",
    "# sort word by frequent, the words more frequent is more important \n",
    "# because sometime we need to limit the vocab size (e.g. cant over 10000 words)\n",
    "# the words in the end of list which have lower frequent will be removed \n",
    "################################\n",
    "\n",
    "sorted_by_freq_tuples = sorted(counter.items(), key=lambda x: x[1], reverse=True)\n",
    "sorted_by_freq_tuples"
   ]
  },
  {
   "cell_type": "code",
   "execution_count": 52,
   "metadata": {},
   "outputs": [],
   "source": [
    "################################\n",
    "# NOTE \n",
    "# create vocab with all words and append 2 special words is <pad> and <unk>\n",
    "# for padding and the out-of-vocab words in the test/valid data. \n",
    "# Because we can not sure that in the future, in the test data, there is some words never seen in training set\n",
    "################################\n",
    "\n",
    "my_vocab = vocab(OrderedDict(sorted_by_freq_tuples), specials=['<pad>','<unk>'])\n",
    "my_vocab.set_default_index(my_vocab['<unk>'])"
   ]
  },
  {
   "cell_type": "code",
   "execution_count": 56,
   "metadata": {},
   "outputs": [
    {
     "data": {
      "text/plain": [
       "(1, 1, 0, 2)"
      ]
     },
     "execution_count": 56,
     "metadata": {},
     "output_type": "execute_result"
    }
   ],
   "source": [
    "my_vocab['thisIsWordNeverSeenBefore'], my_vocab['<unk>'], my_vocab['<pad>'], my_vocab['test']"
   ]
  },
  {
   "cell_type": "code",
   "execution_count": 59,
   "metadata": {},
   "outputs": [
    {
     "name": "stdout",
     "output_type": "stream",
     "text": [
      "[4, 5, 6, 1, 1]\n"
     ]
    }
   ],
   "source": [
    "################################\n",
    "# NOTE \n",
    "# the function __call__ also is overrided\n",
    "################################\n",
    "print(my_vocab(['this', 'is', 'a', 'new', 'data']))"
   ]
  },
  {
   "cell_type": "code",
   "execution_count": null,
   "metadata": {},
   "outputs": [],
   "source": []
  }
 ],
 "metadata": {
  "kernelspec": {
   "display_name": "Python 3.8.16 (conda)",
   "language": "python",
   "name": "python3"
  },
  "language_info": {
   "codemirror_mode": {
    "name": "ipython",
    "version": 3
   },
   "file_extension": ".py",
   "mimetype": "text/x-python",
   "name": "python",
   "nbconvert_exporter": "python",
   "pygments_lexer": "ipython3",
   "version": "3.8.16"
  },
  "orig_nbformat": 4,
  "vscode": {
   "interpreter": {
    "hash": "d3602b4515afb2d87a870b61c65d7b658117eca8f37f64d20593019ba04f7019"
   }
  }
 },
 "nbformat": 4,
 "nbformat_minor": 2
}
