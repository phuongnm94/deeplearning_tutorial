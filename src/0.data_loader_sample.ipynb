{
 "cells": [
  {
   "cell_type": "code",
   "execution_count": 4,
   "metadata": {},
   "outputs": [],
   "source": [
    "import torch \n",
    "from torch.utils.data import TensorDataset\n",
    "from torch.utils.data import DataLoader\n",
    " \n",
    "class Preprocessor():\n",
    "    def __init__(self) -> None:\n",
    "        pass\n",
    "\n",
    "    def __call__(self, batch):\n",
    "        # this function can transform data befor model forwarding. \n",
    "        # e.g. convert text to id, or convert list to Tensor\n",
    "        for i in range(len(batch)): \n",
    "            \n",
    "            # is that len(batch) is alway == batch_size setting\n",
    "            for j in range(len(batch[i])):\n",
    "\n",
    "                # transform data with following rule (just for fun):\n",
    "                #   if: the first element of sample is 0, all the other value of that sample also set to 0 \n",
    "                #   else: the value is added 1 unit\n",
    "                if batch[i][j] == 0:\n",
    "                    # example return anything with special condition.\n",
    "                    batch[i] = [0,0,0,0,0,0,0] \n",
    "                else:\n",
    "                    batch[i][j] = batch[i][j] + 1 \n",
    "\n",
    "        # return processed batch \n",
    "        return batch\n",
    " "
   ]
  },
  {
   "cell_type": "code",
   "execution_count": 5,
   "metadata": {},
   "outputs": [],
   "source": [
    "\n",
    "dataset_example = [[1,2,3,4,5],[1,2,3],[1,2],[1,5],[3,4,5],[ 2,3,4,5],[ 0,'this','is','a', 'test']]\n",
    "\n",
    "# dataset_example should support operator index_selection for create the data_loader object\n",
    "loader = DataLoader(dataset_example, batch_size=2, collate_fn=Preprocessor(), shuffle=True)"
   ]
  },
  {
   "cell_type": "code",
   "execution_count": 6,
   "metadata": {},
   "outputs": [
    {
     "name": "stdout",
     "output_type": "stream",
     "text": [
      "0 [[4, 5, 6], [2, 6]]\n",
      "1 [[0, 0, 0, 0, 0, 0, 0], [3, 4, 5, 6]]\n",
      "2 [[2, 3], [2, 3, 4, 5, 6]]\n",
      "3 [[2, 3, 4]]\n"
     ]
    }
   ],
   "source": [
    "for batch_ndx, sample in enumerate(loader):\n",
    "    print(batch_ndx, sample) \n",
    " "
   ]
  },
  {
   "cell_type": "code",
   "execution_count": 7,
   "metadata": {},
   "outputs": [
    {
     "name": "stdout",
     "output_type": "stream",
     "text": [
      "0 [[3, 4, 5, 6, 7], [5, 6, 7]]\n",
      "1 [[3, 7], [3, 4, 5]]\n",
      "2 [[0, 0, 0, 0, 0, 0, 0], [4, 5, 6, 7]]\n",
      "3 [[3, 4]]\n"
     ]
    }
   ],
   "source": [
    "# check the difference output for each time inspect data_loader or load data\n",
    "for batch_ndx, sample in enumerate(loader):\n",
    "    print(batch_ndx, sample) "
   ]
  },
  {
   "cell_type": "code",
   "execution_count": null,
   "metadata": {},
   "outputs": [],
   "source": []
  }
 ],
 "metadata": {
  "kernelspec": {
   "display_name": "Python 3.8.16 (conda)",
   "language": "python",
   "name": "python3"
  },
  "language_info": {
   "codemirror_mode": {
    "name": "ipython",
    "version": 3
   },
   "file_extension": ".py",
   "mimetype": "text/x-python",
   "name": "python",
   "nbconvert_exporter": "python",
   "pygments_lexer": "ipython3",
   "version": "3.8.16"
  },
  "orig_nbformat": 4,
  "vscode": {
   "interpreter": {
    "hash": "d3602b4515afb2d87a870b61c65d7b658117eca8f37f64d20593019ba04f7019"
   }
  }
 },
 "nbformat": 4,
 "nbformat_minor": 2
}
