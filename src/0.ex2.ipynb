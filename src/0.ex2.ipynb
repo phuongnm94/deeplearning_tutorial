{
 "cells": [
  {
   "cell_type": "code",
   "execution_count": 4,
   "metadata": {},
   "outputs": [],
   "source": [
    "data = \"\"\"JSPS launched the “Postdoctoral invitees from the United Kingdom and West Germany” in 1979. 10 people from each country were invited for two years based on recommendations from the Royal Society in the UK and the Alexander von Humboldt Foundation in West Germany.\n",
    "\n",
    "The main idea of this invitation program was stated in the “Overview of FY 1979 JSPS Projects” as follows: In view of many of our country’s brilliant young researchers have gained valuable experiences by courtesy of the developed countries, such as the UK, the U.S., France and other nations since the end of the WWII, we initiate the government-funded program to contribute to the international academic exchange. The program begun to include France as an invitation subject country in 1983 and changed the program name into the “Postdoctoral invitees from the United Kingdom, West Germany and France”.We invited 179 young researchers from 1979 to 1987.\"\"\".split(\" \")"
   ]
  },
  {
   "cell_type": "code",
   "execution_count": 9,
   "metadata": {},
   "outputs": [
    {
     "ename": "TypeError",
     "evalue": "'TextPreprocessor' object is not callable",
     "output_type": "error",
     "traceback": [
      "\u001b[0;31m---------------------------------------------------------------------------\u001b[0m",
      "\u001b[0;31mTypeError\u001b[0m                                 Traceback (most recent call last)",
      "\u001b[1;32m/home/phuongnm/deeplearning_tutorial/src/0.ex2.ipynb Cell 2\u001b[0m in \u001b[0;36m<cell line: 21>\u001b[0;34m()\u001b[0m\n\u001b[1;32m     <a href='vscode-notebook-cell://ssh-remote%2Bspcc-a100g01/home/phuongnm/deeplearning_tutorial/src/0.ex2.ipynb#W5sdnNjb2RlLXJlbW90ZQ%3D%3D?line=16'>17</a>\u001b[0m     \u001b[39mpass\u001b[39;00m\n\u001b[1;32m     <a href='vscode-notebook-cell://ssh-remote%2Bspcc-a100g01/home/phuongnm/deeplearning_tutorial/src/0.ex2.ipynb#W5sdnNjb2RlLXJlbW90ZQ%3D%3D?line=18'>19</a>\u001b[0m loader \u001b[39m=\u001b[39m DataLoader(data, batch_size\u001b[39m=\u001b[39m\u001b[39m5\u001b[39m, collate_fn\u001b[39m=\u001b[39mTextPreprocessor(), shuffle\u001b[39m=\u001b[39m\u001b[39mTrue\u001b[39;00m)\n\u001b[0;32m---> <a href='vscode-notebook-cell://ssh-remote%2Bspcc-a100g01/home/phuongnm/deeplearning_tutorial/src/0.ex2.ipynb#W5sdnNjb2RlLXJlbW90ZQ%3D%3D?line=20'>21</a>\u001b[0m \u001b[39mfor\u001b[39;00m batch_ndx, sample \u001b[39min\u001b[39;00m \u001b[39menumerate\u001b[39m(loader):\n\u001b[1;32m     <a href='vscode-notebook-cell://ssh-remote%2Bspcc-a100g01/home/phuongnm/deeplearning_tutorial/src/0.ex2.ipynb#W5sdnNjb2RlLXJlbW90ZQ%3D%3D?line=21'>22</a>\u001b[0m     \u001b[39mprint\u001b[39m(batch_ndx, sample) \n",
      "File \u001b[0;32m~/deeplearning_tutorial/env_py38/lib/python3.8/site-packages/torch/utils/data/dataloader.py:628\u001b[0m, in \u001b[0;36m_BaseDataLoaderIter.__next__\u001b[0;34m(self)\u001b[0m\n\u001b[1;32m    625\u001b[0m \u001b[39mif\u001b[39;00m \u001b[39mself\u001b[39m\u001b[39m.\u001b[39m_sampler_iter \u001b[39mis\u001b[39;00m \u001b[39mNone\u001b[39;00m:\n\u001b[1;32m    626\u001b[0m     \u001b[39m# TODO(https://github.com/pytorch/pytorch/issues/76750)\u001b[39;00m\n\u001b[1;32m    627\u001b[0m     \u001b[39mself\u001b[39m\u001b[39m.\u001b[39m_reset()  \u001b[39m# type: ignore[call-arg]\u001b[39;00m\n\u001b[0;32m--> 628\u001b[0m data \u001b[39m=\u001b[39m \u001b[39mself\u001b[39;49m\u001b[39m.\u001b[39;49m_next_data()\n\u001b[1;32m    629\u001b[0m \u001b[39mself\u001b[39m\u001b[39m.\u001b[39m_num_yielded \u001b[39m+\u001b[39m\u001b[39m=\u001b[39m \u001b[39m1\u001b[39m\n\u001b[1;32m    630\u001b[0m \u001b[39mif\u001b[39;00m \u001b[39mself\u001b[39m\u001b[39m.\u001b[39m_dataset_kind \u001b[39m==\u001b[39m _DatasetKind\u001b[39m.\u001b[39mIterable \u001b[39mand\u001b[39;00m \\\n\u001b[1;32m    631\u001b[0m         \u001b[39mself\u001b[39m\u001b[39m.\u001b[39m_IterableDataset_len_called \u001b[39mis\u001b[39;00m \u001b[39mnot\u001b[39;00m \u001b[39mNone\u001b[39;00m \u001b[39mand\u001b[39;00m \\\n\u001b[1;32m    632\u001b[0m         \u001b[39mself\u001b[39m\u001b[39m.\u001b[39m_num_yielded \u001b[39m>\u001b[39m \u001b[39mself\u001b[39m\u001b[39m.\u001b[39m_IterableDataset_len_called:\n",
      "File \u001b[0;32m~/deeplearning_tutorial/env_py38/lib/python3.8/site-packages/torch/utils/data/dataloader.py:671\u001b[0m, in \u001b[0;36m_SingleProcessDataLoaderIter._next_data\u001b[0;34m(self)\u001b[0m\n\u001b[1;32m    669\u001b[0m \u001b[39mdef\u001b[39;00m \u001b[39m_next_data\u001b[39m(\u001b[39mself\u001b[39m):\n\u001b[1;32m    670\u001b[0m     index \u001b[39m=\u001b[39m \u001b[39mself\u001b[39m\u001b[39m.\u001b[39m_next_index()  \u001b[39m# may raise StopIteration\u001b[39;00m\n\u001b[0;32m--> 671\u001b[0m     data \u001b[39m=\u001b[39m \u001b[39mself\u001b[39;49m\u001b[39m.\u001b[39;49m_dataset_fetcher\u001b[39m.\u001b[39;49mfetch(index)  \u001b[39m# may raise StopIteration\u001b[39;00m\n\u001b[1;32m    672\u001b[0m     \u001b[39mif\u001b[39;00m \u001b[39mself\u001b[39m\u001b[39m.\u001b[39m_pin_memory:\n\u001b[1;32m    673\u001b[0m         data \u001b[39m=\u001b[39m _utils\u001b[39m.\u001b[39mpin_memory\u001b[39m.\u001b[39mpin_memory(data, \u001b[39mself\u001b[39m\u001b[39m.\u001b[39m_pin_memory_device)\n",
      "File \u001b[0;32m~/deeplearning_tutorial/env_py38/lib/python3.8/site-packages/torch/utils/data/_utils/fetch.py:61\u001b[0m, in \u001b[0;36m_MapDatasetFetcher.fetch\u001b[0;34m(self, possibly_batched_index)\u001b[0m\n\u001b[1;32m     59\u001b[0m \u001b[39melse\u001b[39;00m:\n\u001b[1;32m     60\u001b[0m     data \u001b[39m=\u001b[39m \u001b[39mself\u001b[39m\u001b[39m.\u001b[39mdataset[possibly_batched_index]\n\u001b[0;32m---> 61\u001b[0m \u001b[39mreturn\u001b[39;00m \u001b[39mself\u001b[39;49m\u001b[39m.\u001b[39;49mcollate_fn(data)\n",
      "\u001b[0;31mTypeError\u001b[0m: 'TextPreprocessor' object is not callable"
     ]
    }
   ],
   "source": [
    "import torch \n",
    "from torch.utils.data import TensorDataset\n",
    "from torch.utils.data import DataLoader\n",
    "\n",
    "class TextPreprocessor:\n",
    "    # ===================================\n",
    "    # REQUIREMENT:\n",
    "    # - considering each word (e.g. \"JSPS\", \"launched\", ...) in the variable `data` is a input sample\n",
    "    # - assume that the model require input data is the length of word (e.g. \"JSPS\" -> 4, \"launched\" -> 7).\n",
    "    # - and we need to feed it to the model using minibatch (5 word_lengths per time, batchsize=5).\n",
    "    # (tips: defined some method of this object) \n",
    "    # ===================================\n",
    "    # - PUSH YOUR CODE IN HERE, can not modify any code in outside this range. \n",
    "\n",
    "\n",
    "    # ===================================\n",
    "    pass\n",
    "\n",
    "loader = DataLoader(data, batch_size=5, collate_fn=TextPreprocessor(), shuffle=True)\n",
    "\n",
    "for batch_ndx, sample in enumerate(loader):\n",
    "    print(batch_ndx, sample) \n",
    " "
   ]
  },
  {
   "cell_type": "markdown",
   "metadata": {},
   "source": [
    "### the correct output look like :\n",
    "```python\n",
    "0 [4, 8, 15, 3, 10]\n",
    "1 [4, 3, 2, 2, 7]\n",
    "2 [7, 9, 2, 2, 2]\n",
    "3 [2, 3, 6, 6, 7]\n",
    "4 [7, 4, 7, 4, 3]\n",
    "5 [2, 9, 4, 3, 3]\n",
    "6 [5, 8, 4, 11, 2]\n",
    "7 [2, 4, 5, 3, 3]\n",
    "8 [2, 5, 3, 2, 7]\n",
    "9 [5, 2, 9, 2, 7]\n",
    "10 [7, 4, 3, 8, 3]\n",
    "11 [6, 9, 4, 10, 6]\n",
    "12 [7, 4, 3, 2, 7]\n",
    "13 [3, 6, 3, 3, 8]\n",
    "14 [5, 3, 3, 10, 4]\n",
    "15 [5, 4, 2, 4, 3]\n",
    "16 [5, 3, 5, 2, 3]\n",
    "17 [3, 6, 4, 2, 8]\n",
    "18 [8, 5, 4, 3, 8]\n",
    "19 [4, 3, 4, 5, 9]\n",
    "20 [2, 2, 4, 4, 4]\n",
    "21 [7, 3, 13, 13, 10]\n",
    "22 [7, 11, 3, 3, 3]\n",
    "23 [5, 2, 17, 9, 4]\n",
    "24 [10, 2, 2, 8, 6]\n",
    "25 [13, 7, 10, 2, 9]\n",
    "26 [7, 3, 3, 2, 8]\n",
    "27 [5, 4, 8, 8, 4]\n",
    "28 [4, 2, 7, 13, 3]\n",
    "29 [2, 11]\n",
    "```"
   ]
  },
  {
   "cell_type": "code",
   "execution_count": null,
   "metadata": {},
   "outputs": [],
   "source": []
  }
 ],
 "metadata": {
  "kernelspec": {
   "display_name": "Python 3.8.16 (conda)",
   "language": "python",
   "name": "python3"
  },
  "language_info": {
   "codemirror_mode": {
    "name": "ipython",
    "version": 3
   },
   "file_extension": ".py",
   "mimetype": "text/x-python",
   "name": "python",
   "nbconvert_exporter": "python",
   "pygments_lexer": "ipython3",
   "version": "3.8.16"
  },
  "orig_nbformat": 4,
  "vscode": {
   "interpreter": {
    "hash": "d3602b4515afb2d87a870b61c65d7b658117eca8f37f64d20593019ba04f7019"
   }
  }
 },
 "nbformat": 4,
 "nbformat_minor": 2
}
