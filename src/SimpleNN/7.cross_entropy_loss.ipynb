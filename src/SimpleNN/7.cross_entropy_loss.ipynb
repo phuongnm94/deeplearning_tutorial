{
 "cells": [
  {
   "attachments": {},
   "cell_type": "markdown",
   "metadata": {},
   "source": [
    "#### Exercise: \n",
    "- Use following CrossEntropy loss for emotional classification using Transformer architecture. \n",
    "- Optimize learning-rate value to get over 60 % accuracy \n",
    "\n",
    "![loss](../../img/dl_tutorial-Trang-3.png)"
   ]
  },
  {
   "cell_type": "code",
   "execution_count": 15,
   "metadata": {},
   "outputs": [
    {
     "name": "stdout",
     "output_type": "stream",
     "text": [
      "probabilities for 3 sentences, 8 labels = \n",
      " tensor([[0.0817, 0.1935, 0.0937, 0.2273, 0.1017, 0.1177, 0.0944, 0.0901],\n",
      "        [0.0832, 0.1460, 0.1091, 0.1764, 0.1365, 0.1345, 0.1145, 0.0999],\n",
      "        [0.0865, 0.1725, 0.1162, 0.1885, 0.1494, 0.1131, 0.1046, 0.0692]],\n",
      "       grad_fn=<SoftmaxBackward0>)\n",
      "fake gold label 3 sentences \n",
      " tensor([3, 2, 3])\n",
      "loss =  tensor(2.0303, grad_fn=<NllLossBackward0>)\n",
      "label predictions \n",
      " tensor([3, 3, 3])\n"
     ]
    }
   ],
   "source": [
    "import torch \n",
    "from torch import nn \n",
    "import math\n",
    "\n",
    "# Setting for model architecture  \n",
    "d_model = 100\n",
    "embedding_size = d_model\n",
    "batch_size = 3\n",
    "num_of_labels = 8\n",
    "\n",
    "\n",
    "# fake input data, #NOTE `fake_gold_label` should be integer or long values, can not be float values\n",
    "fake_sent_vector = torch.rand(batch_size, embedding_size) \n",
    "fake_gold_label = torch.randint(low=0, high=num_of_labels, size=(batch_size, )) \n",
    "\n",
    "# MODEL INSTALL  \n",
    "# NOTE: output layer transform to the important values for each label \n",
    "output_layer = torch.nn.Linear(embedding_size, num_of_labels)\n",
    "\n",
    "# install loss function.\n",
    "loss_function = nn.CrossEntropyLoss() \n",
    "\n",
    "# MODEL COMPUTING \n",
    "# using softmax to compute probabilities\n",
    "softmax_layer = torch.nn.Softmax(dim=1)  # Set `dim=1` because this dimentions present probabilities across all class of 1 sample \n",
    "label_feature_values = output_layer(fake_sent_vector)\n",
    "class_probabilities = softmax_layer(label_feature_values)\n",
    "\n",
    "\n",
    "\n",
    "# forward \n",
    "loss = loss_function(class_probabilities, fake_gold_label)\n",
    "\n",
    "# output shape \n",
    "print('probabilities for 3 sentences, 8 labels = \\n', class_probabilities)\n",
    "print('fake gold label 3 sentences \\n', fake_gold_label)\n",
    "print('loss = ', loss)\n",
    "\n",
    "\n",
    "#NOTE - from probabilities, we pick the position of the largest value as a model label prediction \n",
    "predictions = torch.argmax(class_probabilities, dim=1)\n",
    "print('label predictions \\n', predictions)\n",
    "\n"
   ]
  },
  {
   "cell_type": "code",
   "execution_count": null,
   "metadata": {},
   "outputs": [],
   "source": []
  },
  {
   "cell_type": "code",
   "execution_count": null,
   "metadata": {},
   "outputs": [],
   "source": []
  }
 ],
 "metadata": {
  "kernelspec": {
   "display_name": "Python 3.8.16 (conda)",
   "language": "python",
   "name": "python3"
  },
  "language_info": {
   "codemirror_mode": {
    "name": "ipython",
    "version": 3
   },
   "file_extension": ".py",
   "mimetype": "text/x-python",
   "name": "python",
   "nbconvert_exporter": "python",
   "pygments_lexer": "ipython3",
   "version": "3.8.16"
  },
  "orig_nbformat": 4,
  "vscode": {
   "interpreter": {
    "hash": "d3602b4515afb2d87a870b61c65d7b658117eca8f37f64d20593019ba04f7019"
   }
  }
 },
 "nbformat": 4,
 "nbformat_minor": 2
}
