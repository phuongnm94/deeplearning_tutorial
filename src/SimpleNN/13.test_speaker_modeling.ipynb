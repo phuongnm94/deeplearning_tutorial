{
 "cells": [
  {
   "cell_type": "code",
   "execution_count": 2,
   "metadata": {},
   "outputs": [
    {
     "name": "stdout",
     "output_type": "stream",
     "text": [
      "tensor([[-0.0938, -0.0957,  0.1413,  0.0250,  0.0825, -0.0657],\n",
      "        [-0.1028, -0.0951,  0.1497,  0.0174,  0.0868, -0.0748],\n",
      "        [-0.1163, -0.0932,  0.1367,  0.0185,  0.0929, -0.0708],\n",
      "        [-0.1007, -0.0970,  0.1344,  0.0198,  0.0824, -0.0725],\n",
      "        [-0.0969, -0.0904,  0.1369,  0.0130,  0.0827, -0.0707],\n",
      "        [-0.1021, -0.0922,  0.1431,  0.0180,  0.0816, -0.0694],\n",
      "        [-0.0981, -0.0931,  0.1511,  0.0196,  0.0763, -0.0704],\n",
      "        [-0.1056, -0.0969,  0.1367,  0.0151,  0.0864, -0.0753],\n",
      "        [-0.0931, -0.0974,  0.1386,  0.0211,  0.0823, -0.0684],\n",
      "        [-0.1032, -0.1034,  0.1358,  0.0143,  0.0815, -0.0741],\n",
      "        [-0.1083, -0.1003,  0.1428,  0.0124,  0.0856, -0.0744],\n",
      "        [-0.1136, -0.1055,  0.1392,  0.0131,  0.0886, -0.0791],\n",
      "        [-0.1104, -0.0871,  0.1386,  0.0184,  0.0853, -0.0697],\n",
      "        [-0.1096, -0.0999,  0.1291,  0.0138,  0.0883, -0.0726],\n",
      "        [-0.1092, -0.1001,  0.1374,  0.0208,  0.0865, -0.0692],\n",
      "        [-0.0998, -0.0983,  0.1441,  0.0134,  0.0871, -0.0766],\n",
      "        [-0.0989, -0.0907,  0.1395,  0.0155,  0.0789, -0.0661],\n",
      "        [-0.1095, -0.0901,  0.1372,  0.0211,  0.0835, -0.0696],\n",
      "        [-0.1080, -0.0955,  0.1384,  0.0214,  0.0799, -0.0728],\n",
      "        [-0.1121, -0.0954,  0.1387,  0.0178,  0.0879, -0.0792],\n",
      "        [-0.1036, -0.0972,  0.1353,  0.0206,  0.0829, -0.0752],\n",
      "        [-0.0920, -0.0977,  0.1393,  0.0172,  0.0786, -0.0631],\n",
      "        [-0.1009, -0.0947,  0.1454,  0.0179,  0.0784, -0.0646],\n",
      "        [-0.0963, -0.0961,  0.1436,  0.0163,  0.0826, -0.0747],\n",
      "        [-0.0988, -0.0935,  0.1385,  0.0208,  0.0808, -0.0730],\n",
      "        [-0.1030, -0.1020,  0.1476,  0.0222,  0.0804, -0.0723],\n",
      "        [-0.1116, -0.0992,  0.1348,  0.0163,  0.0872, -0.0684],\n",
      "        [-0.0990, -0.0892,  0.1442,  0.0214,  0.0807, -0.0673],\n",
      "        [-0.1021, -0.0960,  0.1421,  0.0186,  0.0816, -0.0669],\n",
      "        [-0.1053, -0.0958,  0.1433,  0.0179,  0.0880, -0.0664],\n",
      "        [-0.1066, -0.0972,  0.1368,  0.0148,  0.0855, -0.0707],\n",
      "        [-0.1029, -0.1014,  0.1443,  0.0123,  0.0783, -0.0699],\n",
      "        [-0.1046, -0.0902,  0.1408,  0.0183,  0.0813, -0.0598],\n",
      "        [-0.0930, -0.0921,  0.1316,  0.0199,  0.0822, -0.0690],\n",
      "        [-0.0956, -0.0974,  0.1271,  0.0225,  0.0799, -0.0678],\n",
      "        [-0.1059, -0.0985,  0.1361,  0.0178,  0.0820, -0.0693],\n",
      "        [-0.1009, -0.0904,  0.1442,  0.0180,  0.0787, -0.0636],\n",
      "        [-0.1031, -0.0991,  0.1428,  0.0110,  0.0844, -0.0756],\n",
      "        [-0.0984, -0.0898,  0.1411,  0.0181,  0.0844, -0.0639],\n",
      "        [-0.0954, -0.0962,  0.1397,  0.0198,  0.0784, -0.0687],\n",
      "        [-0.1065, -0.1034,  0.1438,  0.0172,  0.0808, -0.0738],\n",
      "        [-0.0981, -0.0939,  0.1407,  0.0090,  0.0758, -0.0680],\n",
      "        [-0.1074, -0.1015,  0.1447,  0.0171,  0.0864, -0.0745],\n",
      "        [    nan,     nan,     nan,     nan,     nan,     nan],\n",
      "        [    nan,     nan,     nan,     nan,     nan,     nan],\n",
      "        [    nan,     nan,     nan,     nan,     nan,     nan],\n",
      "        [    nan,     nan,     nan,     nan,     nan,     nan],\n",
      "        [    nan,     nan,     nan,     nan,     nan,     nan]],\n",
      "       grad_fn=<ReshapeAliasBackward0>)\n",
      "torch.Size([48, 6])\n"
     ]
    },
    {
     "name": "stderr",
     "output_type": "stream",
     "text": [
      "/home/phuongnm/deeplearning_tutorial/env_py38/lib/python3.8/site-packages/torch/nn/functional.py:4999: UserWarning: Support for mismatched key_padding_mask and attn_mask is deprecated. Use same type for both instead.\n",
      "  warnings.warn(\n"
     ]
    }
   ],
   "source": [
    "\n",
    "import torch \n",
    "from torch import nn\n",
    "\n",
    "# ===========\n",
    "# fake data randomly \n",
    "# this part is not important \n",
    "batch_size = 1\n",
    "seq_len = 48\n",
    "hidden_size = 1024\n",
    "num_labels = 6\n",
    "vector_utterances_without_context = torch.rand(batch_size, seq_len, hidden_size)\n",
    "y_hat = torch.rand(batch_size, seq_len, num_labels)\n",
    "intra_speaker_masked = (torch.rand(batch_size, seq_len, seq_len) > -0.5)\n",
    "intra_speaker_masked[:, :seq_len-5, :seq_len-5] = False\n",
    "padding_utterance_masked =  torch.rand(batch_size, seq_len) > -0.5\n",
    "padding_utterance_masked[:, :seq_len-5] = False\n",
    "# ===========\n",
    "\n",
    "# model init \n",
    "d_model = hidden_size\n",
    "inter_speaker_modeling = nn.MultiheadAttention(int(d_model/2), num_heads=8, dropout=0.2, batch_first=True)\n",
    "inter_q =   nn.Linear(d_model, int(d_model/2))  \n",
    "inter_k =   nn.Linear(d_model,int(d_model/2))  \n",
    "inter_v =   nn.Linear(d_model,int(d_model/2))  \n",
    "inter_speaker_2_output_layer =   nn.Linear(int(d_model/2), num_labels)  \n",
    "\n",
    "# forward model \n",
    "q_vector = inter_q(vector_utterances_without_context)\n",
    "k_vector = inter_k(vector_utterances_without_context)\n",
    "v_vector = inter_v(vector_utterances_without_context)\n",
    "vector_fused_by_inter_speaker, attentions = inter_speaker_modeling(q_vector, k_vector, v_vector, attn_mask=(intra_speaker_masked).repeat(8,1,1), key_padding_mask=padding_utterance_masked)\n",
    "output_vector = inter_speaker_2_output_layer(vector_fused_by_inter_speaker)\n",
    "output_vector = output_vector.reshape(batch_size*seq_len, -1)\n",
    "\n",
    "# output shape \n",
    "# incoportate `output_vector` to the `y_hat`\n",
    "y_hat = y_hat +  output_vector\n",
    "\n",
    "print(output_vector)\n",
    "print(output_vector.shape)"
   ]
  },
  {
   "cell_type": "code",
   "execution_count": null,
   "metadata": {},
   "outputs": [],
   "source": []
  }
 ],
 "metadata": {
  "kernelspec": {
   "display_name": "Python 3",
   "language": "python",
   "name": "python3"
  },
  "language_info": {
   "codemirror_mode": {
    "name": "ipython",
    "version": 3
   },
   "file_extension": ".py",
   "mimetype": "text/x-python",
   "name": "python",
   "nbconvert_exporter": "python",
   "pygments_lexer": "ipython3",
   "version": "3.8.16"
  },
  "orig_nbformat": 4,
  "vscode": {
   "interpreter": {
    "hash": "d3602b4515afb2d87a870b61c65d7b658117eca8f37f64d20593019ba04f7019"
   }
  }
 },
 "nbformat": 4,
 "nbformat_minor": 2
}
