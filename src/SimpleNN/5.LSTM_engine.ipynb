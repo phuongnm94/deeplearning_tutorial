{
 "cells": [
  {
   "attachments": {},
   "cell_type": "markdown",
   "metadata": {},
   "source": [
    "#### Exercise\n",
    "\n",
    "Use following LSTM architecture to for emotional classification. "
   ]
  },
  {
   "cell_type": "code",
   "execution_count": 6,
   "metadata": {},
   "outputs": [
    {
     "name": "stdout",
     "output_type": "stream",
     "text": [
      "last hidden states = (hn, cn) =  torch.Size([4, 30, 50]) torch.Size([4, 30, 50])\n",
      "doc_vector.shape = batch_size x d_model =  torch.Size([30, 100])\n"
     ]
    }
   ],
   "source": [
    "import torch \n",
    "from torch import nn \n",
    "\n",
    "d_model = 100\n",
    "embedding_size = d_model\n",
    "batch_size = 30\n",
    "sequence_length = 7\n",
    "\n",
    "# fake input data \n",
    "fake_embedding = torch.rand(batch_size, sequence_length, embedding_size)\n",
    "\n",
    "# init model \n",
    "lstm_layer = nn.LSTM(input_size=d_model, hidden_size=d_model//2, num_layers=2, \n",
    "                     dropout=0.2, batch_first=True, bidirectional=True)\n",
    " \n",
    "# forward \n",
    "h_words, (hn, cn) = lstm_layer(fake_embedding) \n",
    "doc_vector =  (hn[-2:]+cn[-2:]).transpose(0,1).reshape(batch_size, -1)\n",
    "\n",
    "\n",
    "print('last hidden states = (hn, cn) = ', hn.shape, cn.shape)\n",
    "print('doc_vector.shape = batch_size x d_model = ', doc_vector.shape)\n",
    "\n"
   ]
  },
  {
   "cell_type": "code",
   "execution_count": null,
   "metadata": {},
   "outputs": [],
   "source": []
  },
  {
   "cell_type": "code",
   "execution_count": null,
   "metadata": {},
   "outputs": [],
   "source": []
  }
 ],
 "metadata": {
  "kernelspec": {
   "display_name": "Python 3.8.16 (conda)",
   "language": "python",
   "name": "python3"
  },
  "language_info": {
   "codemirror_mode": {
    "name": "ipython",
    "version": 3
   },
   "file_extension": ".py",
   "mimetype": "text/x-python",
   "name": "python",
   "nbconvert_exporter": "python",
   "pygments_lexer": "ipython3",
   "version": "3.8.16"
  },
  "orig_nbformat": 4,
  "vscode": {
   "interpreter": {
    "hash": "d3602b4515afb2d87a870b61c65d7b658117eca8f37f64d20593019ba04f7019"
   }
  }
 },
 "nbformat": 4,
 "nbformat_minor": 2
}
