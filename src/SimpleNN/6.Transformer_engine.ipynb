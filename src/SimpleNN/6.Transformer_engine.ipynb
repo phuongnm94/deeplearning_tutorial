{
 "cells": [
  {
   "attachments": {},
   "cell_type": "markdown",
   "metadata": {},
   "source": [
    "#### Exercise\n",
    "\n",
    "Use following Transformer architecture to for emotional classification. "
   ]
  },
  {
   "cell_type": "code",
   "execution_count": 1,
   "metadata": {},
   "outputs": [
    {
     "name": "stdout",
     "output_type": "stream",
     "text": [
      "sentence vector shape = torch.Size([30, 100])\n"
     ]
    }
   ],
   "source": [
    "import torch \n",
    "from torch import nn \n",
    "import math\n",
    "\n",
    "# Setting for model architecture  \n",
    "d_model = 100\n",
    "embedding_size = d_model\n",
    "batch_size = 30\n",
    "sequence_length = 7\n",
    "num_layer = 2\n",
    "nhead = 4 # this is a special setting (number of head) for Transformer architecture \n",
    "\n",
    "\n",
    "# fake input data \n",
    "fake_embedding = torch.rand(batch_size, sequence_length, embedding_size)\n",
    "fake_mask=torch.LongTensor(batch_size, sequence_length).fill_(0)\n",
    "fake_mask[:, -2] = 1\n",
    "fake_mask[:, -1] = 1\n",
    "fake_mask = (fake_mask == 1)\n",
    "\n",
    "# init model = PE (position encoding) layer + \n",
    "class PositionalEncoding(nn.Module):\n",
    "\n",
    "    def __init__(self, d_model: int, dropout: float = 0.1, max_len: int = 5000):\n",
    "        super().__init__()\n",
    "        self.dropout = nn.Dropout(p=dropout)\n",
    "\n",
    "        position = torch.arange(max_len).unsqueeze(1)\n",
    "        div_term = torch.exp(torch.arange(0, d_model, 2) * (-math.log(10000.0) / d_model))\n",
    "        pe = torch.zeros(max_len, 1, d_model)\n",
    "        pe[:, 0, 0::2] = torch.sin(position * div_term)\n",
    "        pe[:, 0, 1::2] = torch.cos(position * div_term)\n",
    "        self.register_buffer('pe', pe)\n",
    "\n",
    "    def forward(self, x): \n",
    "        return self.pe[:x.size(0)]\n",
    "\n",
    "transformer_layer = nn.TransformerEncoder(encoder_layer=nn.TransformerEncoderLayer(d_model=d_model, nhead=nhead, batch_first=True), num_layers=num_layer) \n",
    "pos_encoding = PositionalEncoding(d_model, 0.2)\n",
    "\n",
    "# forward \n",
    "sent_vector = transformer_layer(fake_embedding +  pos_encoding(fake_embedding), src_key_padding_mask=fake_mask)\n",
    "sent_vector = sent_vector[ :, 0] # use hiden state of first word for sentence vector representation \n",
    "\n",
    "# output shape \n",
    "print('sentence vector shape =', sent_vector.shape)\n",
    "\n"
   ]
  },
  {
   "cell_type": "code",
   "execution_count": null,
   "metadata": {},
   "outputs": [],
   "source": []
  },
  {
   "cell_type": "code",
   "execution_count": null,
   "metadata": {},
   "outputs": [],
   "source": []
  }
 ],
 "metadata": {
  "kernelspec": {
   "display_name": "Python 3.8.16 (conda)",
   "language": "python",
   "name": "python3"
  },
  "language_info": {
   "codemirror_mode": {
    "name": "ipython",
    "version": 3
   },
   "file_extension": ".py",
   "mimetype": "text/x-python",
   "name": "python",
   "nbconvert_exporter": "python",
   "pygments_lexer": "ipython3",
   "version": "3.8.16"
  },
  "orig_nbformat": 4,
  "vscode": {
   "interpreter": {
    "hash": "d3602b4515afb2d87a870b61c65d7b658117eca8f37f64d20593019ba04f7019"
   }
  }
 },
 "nbformat": 4,
 "nbformat_minor": 2
}
